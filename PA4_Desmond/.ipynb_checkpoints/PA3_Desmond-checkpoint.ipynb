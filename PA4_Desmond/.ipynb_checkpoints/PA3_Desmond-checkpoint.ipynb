{
 "cells": [
  {
   "cell_type": "code",
   "execution_count": 1,
   "metadata": {},
   "outputs": [],
   "source": [
    "import pandas as pd\n",
    "import numpy as np\n",
    "from plotutil import *\n",
    "\n",
    "def initialize_with_zeros(dim):\n",
    "    W = np.zeros((dim,1))  \n",
    "    w_0 = 0\n",
    "\n",
    "    assert(W.shape == (dim, 1))\n",
    "    assert(isinstance(w_0, float) or isinstance(w_0, int))\n",
    "    return W, w_0\n",
    "\n",
    "def gradient_descent(W, w_0, X, Y, num_iterations, learning_rate, print_cost = False):\n",
    "    \n",
    "    costs = []\n",
    "\n",
    "    for i in range(num_iterations):\n",
    "        m = X.shape[1]\n",
    "\n",
    "        a= np.dot(W.T,X)+ w_0\n",
    "        Y_hat= sigmoid(a)\n",
    "\n",
    "        ca = Y * np.log(Y_hat)\n",
    "        cb = (1-Y) * np.log(1-Y_hat)\n",
    "        cost= -np.sum(ca+cb)/m\n",
    "        dw = np.sum((Y_hat - Y)*X, axis =1, keepdims=True)\n",
    "        dw_0 = np.sum(Y_hat - Y)/m\n",
    "        W = W - learning_rate*(dw)\n",
    "        w_0 = w_0 - learning_rate*( dw_0)\n",
    "\n",
    "        \n",
    "        if((i % 100) == 0):\n",
    "            costs.append(cost)\n",
    "            \n",
    "        # Print the cost every 100 training examples\n",
    "        if print_cost and i % 100 == 0:\n",
    "            print (\"Cost after iteration %i: %f\" %(i, cost))\n",
    "        \n",
    "        \n",
    "    params = {\n",
    "        \"W\": W,\n",
    "        \"w_0\": w_0\n",
    "    }\n",
    "\n",
    "    grads = {\n",
    "        \"dw\": dw,\n",
    "        \"dw_0\": dw_0\n",
    "    }\n",
    "        \n",
    "    return params, grads, costs\n",
    "\n",
    "\n",
    "def model(X_train, Y_train, X_test, Y_test, num_iterations = 1000, learning_rate = 0.01, print_cost = False):\n",
    "\n",
    "    dim = X_train.shape[0]\n",
    "    W, w_0 = initialize_with_zeros(dim)\n",
    "    \n",
    "    X_train = normalize(X_train)\n",
    "    X_test = normalize(X_test)\n",
    "\n",
    "    parameters, grads, costs = gradient_descent( W, w_0, X_train, Y_train, num_iterations, learning_rate, print_cost)\n",
    "\n",
    "    W = parameters[\"W\"]\n",
    "    w_0 = parameters[\"w_0\"]\n",
    "\n",
    "    Y_prediction_train = predict(W, w_0, X_train)\n",
    "    Y_prediction_test =  predict(W, w_0, X_test)\n",
    "\n",
    "\n",
    "    # Print train/test Errors\n",
    "    print(\"train accuracy: {} %\".format(100 - np.mean(np.abs(Y_prediction_train - Y_train)) * 100))\n",
    "    print(\"test accuracy: {} %\".format(100 - np.mean(np.abs(Y_prediction_test - Y_test)) * 100))\n",
    "\n",
    "    print(\"w is \", W)\n",
    "    print(\"w_0 is \", w_0)\n",
    "    \n",
    "    d = {\"costs\": costs,\n",
    "         \"Y_prediction_test\": Y_prediction_test, \n",
    "         \"Y_prediction_train\" : Y_prediction_train, \n",
    "         \"W\" : W, \n",
    "         \"w_0\" : w_0,\n",
    "         \"learning_rate\" : learning_rate,\n",
    "         \"num_iterations\": num_iterations}\n",
    "    \n",
    "    return d"
   ]
  },
  {
   "cell_type": "markdown",
   "metadata": {},
   "source": [
    "# Plot Training Data #\n",
    "Before starting the training, you can visualize the data distribution"
   ]
  },
  {
   "cell_type": "code",
   "execution_count": 3,
   "metadata": {},
   "outputs": [
    {
     "data": {
      "image/png": "[encoded data removed]",
      "text/plain": [
       "<Figure size 432x288 with 1 Axes>"
      ]
     },
     "metadata": {
      "needs_background": "light"
     },
     "output_type": "display_data"
    }
   ],
   "source": [
    "data = np.loadtxt('data.txt', delimiter=',')\n",
    "X_train = data[:, :-1].T\n",
    "y_train = data[:,-1].T\n",
    "plotData(normalize(X_train), y_train, xlabel=\"1st exam\", ylabel=\"2nd exam\", plot_db=False, part_I = False)"
   ]
  },
  {
   "cell_type": "markdown",
   "metadata": {},
   "source": [
    "# Plot the Decision Boundary #\n",
    "After training, you can plot the decision boundary to see how well your model classify the training data"
   ]
  },
  {
   "cell_type": "code",
   "execution_count": 4,
   "metadata": {
    "scrolled": true
   },
   "outputs": [
    {
     "name": "stdout",
     "output_type": "stream",
     "text": [
      "Cost after iteration 0: 0.693147\n",
      "Cost after iteration 100: 0.270121\n",
      "Cost after iteration 200: 0.260933\n",
      "Cost after iteration 300: 0.253604\n",
      "Cost after iteration 400: 0.247400\n",
      "Cost after iteration 500: 0.242119\n",
      "Cost after iteration 600: 0.237603\n",
      "Cost after iteration 700: 0.233724\n",
      "Cost after iteration 800: 0.230376\n",
      "Cost after iteration 900: 0.227474\n",
      "train accuracy: 89.0 %\n",
      "test accuracy: 89.0 %\n",
      "w is  [[3.06503962]\n",
      " [2.78674489]]\n",
      "w_0 is  0.7175071077643508\n"
     ]
    },
    {
     "data": {
      "image/png": "[encoded data removed]",
      "text/plain": [
       "<Figure size 432x288 with 1 Axes>"
      ]
     },
     "metadata": {
      "needs_background": "light"
     },
     "output_type": "display_data"
    }
   ],
   "source": [
    "d = model(X_train, y_train, X_train, y_train, num_iterations = 1000, learning_rate = 0.01, print_cost = True)\n",
    "\n",
    "plotData(normalize(X_train), y_train, xlabel=\"1st exam\", ylabel=\"2nd exam\", w = d[\"W\"], b = d[\"w_0\"], plot_db=False, part_I = True)"
   ]
  }
 ],
 "metadata": {
  "kernelspec": {
   "display_name": "Python 3",
   "language": "python",
   "name": "python3"
  },
  "language_info": {
   "codemirror_mode": {
    "name": "ipython",
    "version": 3
   },
   "file_extension": ".py",
   "mimetype": "text/x-python",
   "name": "python",
   "nbconvert_exporter": "python",
   "pygments_lexer": "ipython3",
   "version": "3.7.3"
  }
 },
 "nbformat": 4,
 "nbformat_minor": 2
}
